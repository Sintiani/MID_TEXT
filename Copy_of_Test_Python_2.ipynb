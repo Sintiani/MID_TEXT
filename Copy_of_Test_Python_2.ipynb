{
  "cells": [
    {
      "cell_type": "markdown",
      "id": "4e147004",
      "metadata": {
        "id": "4e147004"
      },
      "source": [
        "### Python 2 : Spy Text Decoder"
      ]
    },
    {
      "cell_type": "markdown",
      "id": "983e04ac",
      "metadata": {
        "id": "983e04ac"
      },
      "source": [
        "### Task"
      ]
    },
    {
      "cell_type": "markdown",
      "id": "5ec350f9",
      "metadata": {
        "id": "5ec350f9"
      },
      "source": [
        "Your function name should be `decode`.\n",
        "\n",
        "Your input will be two strings:\n",
        "- The First Input String: is the code that you need to decode. It contains letters only.\n",
        "- The Second Input String: is in the form of string, but they contain integers only.\n",
        "\n",
        "Rearrange the code according to the integers as such:\n",
        "- If the first integer is '5', then, you need to put the first letter to the 5th position\n",
        "- If the second integer is '3', then you need to put the second letter to the 3rd position\n",
        "\n",
        "and so on. Please understand the examples given below.\n",
        "\n",
        "Your output should be a string of the decoded text.\n",
        "\n",
        "### Constraint\n",
        "\n",
        "The maximum `length` of input is 9 characters.\n",
        "There will be no input strings which are longer than 10 characters."
      ]
    },
    {
      "cell_type": "markdown",
      "id": "fe7657d7",
      "metadata": {
        "id": "fe7657d7"
      },
      "source": [
        "### Example 1:\n",
        "\n",
        "Input:\n",
        "- First String: `'abc'`\n",
        "- Second String: `'321'`\n",
        "\n",
        "This is how you decode it:\n",
        "- Letter 'a' should be in the 3rd position\n",
        "- Letter 'b' should be in the 2nd position\n",
        "- Letter 'c' should be in the 1st position\n",
        "\n",
        "Output: `cba`"
      ]
    },
    {
      "cell_type": "code",
      "source": [],
      "metadata": {
        "id": "BJcaFlJLiukt"
      },
      "id": "BJcaFlJLiukt",
      "execution_count": null,
      "outputs": []
    },
    {
      "cell_type": "markdown",
      "id": "70c43c1f",
      "metadata": {
        "id": "70c43c1f"
      },
      "source": [
        "### Example 2:\n",
        "\n",
        "Input:\n",
        "- First String: `'niimbdbig'`\n",
        "- Second String: `'847561329'`\n",
        "\n",
        "This is how you decode it:\n",
        "- Letter 'n' should be in the 8th position\n",
        "- Letter 'i' should be in the 4th position\n",
        "- Letter 'i' should be in the 7th position\n",
        "- Letter 'm' should be in the 5th position\n",
        "- Letter 'b' should be in the 6th position\n",
        "- Letter 'd' should be in the 1st position\n",
        "- Letter 'b' should be in the 3rd position\n",
        "- Letter 'i' should be in the 2nd position\n",
        "- Letter 'g' should be in the 9th position\n",
        "\n",
        "Output: `'dibimbing'`"
      ]
    },
    {
      "cell_type": "markdown",
      "id": "09f9a98e",
      "metadata": {
        "id": "09f9a98e"
      },
      "source": [
        "### Example 3:\n",
        "\n",
        "Input:\n",
        "- First String: `'xyzabc'`\n",
        "- Second String: `'654123'`\n",
        "\n",
        "This is how you decode it:\n",
        "- Letter 'x' should be in the 6th position\n",
        "- Letter 'y' should be in the 5th position\n",
        "- Letter 'z' should be in the 4th position\n",
        "- Letter 'a' should be in the 1st position\n",
        "- Letter 'b' should be in the 2nd position\n",
        "- Letter 'c' should be in the 3rd position\n",
        "\n",
        "Output: `'abczyx'`"
      ]
    },
    {
      "cell_type": "markdown",
      "id": "07766ab3",
      "metadata": {
        "id": "07766ab3"
      },
      "source": [
        "### Input Format\n",
        "\n",
        "The input is in the shape of two strings."
      ]
    },
    {
      "cell_type": "markdown",
      "id": "2d318a87",
      "metadata": {
        "id": "2d318a87"
      },
      "source": [
        "### Output Format\n",
        "\n",
        "The output is in the shape of a string."
      ]
    },
    {
      "cell_type": "markdown",
      "id": "8ac2ef21",
      "metadata": {
        "id": "8ac2ef21"
      },
      "source": [
        "### Sample Input"
      ]
    },
    {
      "cell_type": "markdown",
      "id": "54ff47dc",
      "metadata": {
        "id": "54ff47dc"
      },
      "source": [
        "`'abc'`\n",
        "\n",
        "`'312'`"
      ]
    },
    {
      "cell_type": "markdown",
      "id": "fc40c446",
      "metadata": {
        "id": "fc40c446"
      },
      "source": [
        "### Sample Output\n",
        "`'bca'`"
      ]
    },
    {
      "cell_type": "markdown",
      "id": "04034fe3",
      "metadata": {
        "id": "04034fe3"
      },
      "source": [
        "### Space for Work"
      ]
    },
    {
      "cell_type": "code",
      "source": [
        "def decode(kode, urutan):\n",
        "    if len(kode) != len(urutan):\n",
        "        return \"Input tidak valid: Panjang string kode dan urutan harus sama.\"\n",
        "\n",
        "    terdekripsi = [''] * len(kode)\n",
        "\n",
        "    for i in range(len(urutan)):\n",
        "        indeks = int(urutan[i]) - 1\n",
        "        terdekripsi[indeks] = kode[i]\n",
        "\n",
        "    return ''.join(terdekripsi)\n"
      ],
      "metadata": {
        "id": "YdjsaK1ZpfsH"
      },
      "id": "YdjsaK1ZpfsH",
      "execution_count": 5,
      "outputs": []
    },
    {
      "cell_type": "code",
      "source": [
        "kode3 = 'rumah'\n",
        "urutan3 = '51324'\n",
        "hasil_terdekripsi3 = decode(kode3, urutan3)\n",
        "print(\"Hasil 3:\", hasil_terdekripsi3)"
      ],
      "metadata": {
        "colab": {
          "base_uri": "https://localhost:8080/"
        },
        "id": "g7KI8I1Vphoy",
        "outputId": "e939e1d4-a708-410e-b1cf-f2434e4e5472"
      },
      "id": "g7KI8I1Vphoy",
      "execution_count": 8,
      "outputs": [
        {
          "output_type": "stream",
          "name": "stdout",
          "text": [
            "Hasil 3: uamhr\n"
          ]
        }
      ]
    },
    {
      "cell_type": "code",
      "source": [
        "kode2 = 'xyz'\n",
        "urutan2 = '312'\n",
        "hasil_terdekripsi2 = decode(kode2, urutan2)\n",
        "print(\"Hasil 2:\", hasil_terdekripsi2)"
      ],
      "metadata": {
        "colab": {
          "base_uri": "https://localhost:8080/"
        },
        "id": "5_0ZZTnzpvuy",
        "outputId": "f77cbf6a-07a9-46f4-e18f-3629540b0ad6"
      },
      "id": "5_0ZZTnzpvuy",
      "execution_count": 7,
      "outputs": [
        {
          "output_type": "stream",
          "name": "stdout",
          "text": [
            "Hasil 2: yzx\n"
          ]
        }
      ]
    }
  ],
  "metadata": {
    "kernelspec": {
      "display_name": "Python 3",
      "language": "python",
      "name": "python3"
    },
    "language_info": {
      "codemirror_mode": {
        "name": "ipython",
        "version": 3
      },
      "file_extension": ".py",
      "mimetype": "text/x-python",
      "name": "python",
      "nbconvert_exporter": "python",
      "pygments_lexer": "ipython3",
      "version": "3.7.0"
    },
    "colab": {
      "provenance": []
    }
  },
  "nbformat": 4,
  "nbformat_minor": 5
}